{
 "cells": [
  {
   "cell_type": "markdown",
   "id": "73aa0b71",
   "metadata": {},
   "source": [
    "# PIPELINE FINALE"
   ]
  },
  {
   "cell_type": "markdown",
   "id": "0afb0eb9",
   "metadata": {},
   "source": [
    "## Initialisation de la pipeline"
   ]
  },
  {
   "cell_type": "markdown",
   "id": "a7380e84",
   "metadata": {},
   "source": [
    "### 0.1 - Import des librairies nécéssaires au code"
   ]
  },
  {
   "cell_type": "code",
   "execution_count": 1,
   "id": "13d5e646",
   "metadata": {},
   "outputs": [],
   "source": [
    "import matplotlib.pyplot as plt\n",
    "import numpy as np\n",
    "import tensorflow as tf\n",
    "import os\n",
    "import shutil\n",
    "\n",
    "from concurrent.futures import ThreadPoolExecutor, as_completed\n",
    "from PIL import Image, UnidentifiedImageError\n",
    "from tensorflow import keras\n",
    "from tensorflow.keras.models import load_model\n",
    "# serializable\n",
    "from tensorflow.keras import backend as K"
   ]
  },
  {
   "cell_type": "markdown",
   "id": "97288056",
   "metadata": {},
   "source": [
    "### 0.2 - Définition des constantes"
   ]
  },
  {
   "cell_type": "code",
   "execution_count": 2,
   "id": "b3181378",
   "metadata": {},
   "outputs": [],
   "source": [
    "# -------------------------------- General Parameters\n",
    "SEED = 42\n",
    "# -------------------------------- Images Parameters\n",
    "IMAGE_H = 128\n",
    "IMAGE_W = 128\n",
    "BATCH_S = 16\n",
    "# -------------------------------- Classes indexes\n",
    "PAINTING_IDX = 0\n",
    "PHOTO_IDX = 1\n",
    "SCHEMA_IDX = 2\n",
    "SKETCH_IDX = 3\n",
    "TEXT_IDX = 4\n",
    "# -------------------------------- Folders\n",
    "DATASET_DIRECTORY = \"dataset_livrable_1/\"\n",
    "PHOTOS_DIRECTORY = \"final_pipeline/photos\"\n",
    "DENOISED_PHOTOS_DIRECTORY = \"final_pipeline/denoised_photos\"\n",
    "MODEL_DIRECTORY = \"models\"\n",
    "# -------------------------------- Model names\n",
    "CLASSIFICATION_MODEL_NAME = \"classification_model.keras\"\n",
    "AUTOENCODER_MODEL_NAME = \"autoencoder_model.keras\"\n",
    "CAPTIONNING_ENCODER_MODEL_NAME = \"captionning_encoder_model.keras\"\n",
    "CAPTIONNING_DECODER_MODEL_NAME = \"captionning_decoder_model.keras\"\n",
    "# -------------------------------- Model paths\n",
    "CLASSIFICATION_MODEL_PATH = os.path.join(MODEL_DIRECTORY, CLASSIFICATION_MODEL_NAME)\n",
    "AUTOENCODER_MODEL_PATH = os.path.join(MODEL_DIRECTORY, AUTOENCODER_MODEL_NAME)\n",
    "CAPTIONNING_ENCODER_MODEL_PATH = os.path.join(MODEL_DIRECTORY, CAPTIONNING_ENCODER_MODEL_NAME)\n",
    "CAPTIONNING_DECODER_MODEL_PATH = os.path.join(MODEL_DIRECTORY, CAPTIONNING_DECODER_MODEL_NAME)"
   ]
  },
  {
   "cell_type": "markdown",
   "id": "af16da9f",
   "metadata": {},
   "source": [
    "## Partie 1 : Classification"
   ]
  },
  {
   "cell_type": "markdown",
   "id": "2eff0705",
   "metadata": {},
   "source": [
    "### 1.0 - Mise au propre des folders & tri des fichiers"
   ]
  },
  {
   "cell_type": "code",
   "execution_count": null,
   "id": "8b250e4c",
   "metadata": {},
   "outputs": [],
   "source": [
    "def is_image(filename):\n",
    "    try:\n",
    "        with Image.open(filename) as img:\n",
    "            img.verify()\n",
    "        return True\n",
    "    except (UnidentifiedImageError, OSError):\n",
    "        return False\n",
    "def move_non_images(directory):\n",
    "    dump_directory = \"dump\"\n",
    "    os.makedirs(dump_directory, exist_ok = True)\n",
    "    \n",
    "    for folder, _, files in os.walk(directory):\n",
    "        for file in files:\n",
    "            file_path = os.path.join(folder, file)\n",
    "            if not is_image(file_path):\n",
    "                print(f\"Déplacement de {file_path} dans le dossier dump/\")\n",
    "                dest_path = os.path.join(dump_directory, file)\n",
    "                try:\n",
    "                    shutil.move(file_path, dest_path)\n",
    "                except:\n",
    "                    print(\"Erreur lors du déplacement\")\n",
    "def is_valid_image(path):\n",
    "    try:\n",
    "        img_raw = tf.io.read_file(path)\n",
    "        _ = tf.image.decode_image(img_raw, channels=3)\n",
    "        return (path, True)\n",
    "    except Exception:\n",
    "        return (path, False)\n",
    "def clean_corrupted_images(directory, extensions=(\"jpg\", \"jpeg\", \"png\"), max_workers=8):\n",
    "    image_paths = []\n",
    "    for root, _, files in os.walk(directory):\n",
    "        for file in files:\n",
    "            if file.lower().endswith(extensions):\n",
    "                image_paths.append(os.path.join(root, file))\n",
    "\n",
    "    print(f\"Scan de {len(image_paths)} images dans {directory}\")\n",
    "\n",
    "    corrupted_count = 0\n",
    "    with ThreadPoolExecutor(max_workers=max_workers) as executor:\n",
    "        futures = [executor.submit(is_valid_image, path) for path in image_paths]\n",
    "        for future in as_completed(futures):\n",
    "            path, is_valid = future.result()\n",
    "            if not is_valid:\n",
    "                try:\n",
    "                    os.remove(path)\n",
    "                    corrupted_count += 1\n",
    "                except Exception as e:\n",
    "                    print(f\"Erreur de suppression {path} : {e}\")\n",
    "\n",
    "    print(f\"Vérification terminée : {corrupted_count} image(s) corrompue(s) supprimée(s).\")"
   ]
  },
  {
   "cell_type": "code",
   "execution_count": null,
   "id": "a77059ab",
   "metadata": {},
   "outputs": [],
   "source": [
    "move_non_images(DATASET_DIRECTORY)\n",
    "\n",
    "clean_corrupted_images(DATASET_DIRECTORY)\n",
    "\n",
    "# Remove Photos from previous iteration\n",
    "for dir in [\n",
    "    PHOTOS_DIRECTORY, \n",
    "    DENOISED_PHOTOS_DIRECTORY,\n",
    "    ]:  \n",
    "    # Remove the directory if it exists\n",
    "    if os.path.exists(dir):\n",
    "        shutil.rmtree(dir) \n",
    "    # Create the directory\n",
    "    if not os.path.exists(dir):\n",
    "        os.mkdir(dir)"
   ]
  },
  {
   "cell_type": "markdown",
   "id": "5d8a99df",
   "metadata": {},
   "source": [
    "### 1.1 - Import des données source"
   ]
  },
  {
   "cell_type": "code",
   "execution_count": null,
   "id": "9eeea67f",
   "metadata": {},
   "outputs": [],
   "source": [
    "dataset = keras.utils.image_dataset_from_directory(\n",
    "    DATASET_DIRECTORY,\n",
    "    batch_size = BATCH_S,\n",
    "    image_size = (IMAGE_H, IMAGE_W),\n",
    "    label_mode = None,\n",
    "    seed = 42,\n",
    "    validation_split = None,\n",
    "    subset = None,\n",
    "    shuffle = None,\n",
    ")\n",
    "filepaths = dataset.file_paths"
   ]
  },
  {
   "cell_type": "markdown",
   "id": "aa8b6d01",
   "metadata": {},
   "source": [
    "### 1.2 - Classification des données"
   ]
  },
  {
   "cell_type": "code",
   "execution_count": null,
   "id": "6896ae9e",
   "metadata": {},
   "outputs": [],
   "source": [
    "# filter_model = load_model('../model_basic_cnn.keras')\n",
    "classification_model = load_model(CLASSIFICATION_MODEL_PATH)"
   ]
  },
  {
   "cell_type": "code",
   "execution_count": null,
   "id": "8ec360e9",
   "metadata": {},
   "outputs": [],
   "source": [
    "predicts = classification_model.predict(dataset, verbose = 1)\n",
    "y_pred = []\n",
    "y_pred.extend(predicts.argmax(axis=1))"
   ]
  },
  {
   "cell_type": "markdown",
   "id": "f664afc6",
   "metadata": {},
   "source": [
    "### 1.3 - Copie des photos dans un répertoire spécifique"
   ]
  },
  {
   "cell_type": "code",
   "execution_count": null,
   "id": "04d1fc83",
   "metadata": {},
   "outputs": [],
   "source": [
    "images_preds = list(zip(filepaths, y_pred))\n",
    "photos_preds = list(filter(lambda x: x[1] == PHOTO_IDX,images_preds))\n",
    "\n",
    "for filepath, prediction in images_preds:\n",
    "    if prediction == PHOTO_IDX:\n",
    "        filename = os.path.basename(filepath)\n",
    "        # print(filename)\n",
    "        dest_path = os.path.join(PHOTOS_DIRECTORY, filename)\n",
    "        shutil.copy(filepath, dest_path)"
   ]
  },
  {
   "cell_type": "markdown",
   "id": "616ef78b",
   "metadata": {},
   "source": [
    "## Partie 2 : Dénoising des images"
   ]
  },
  {
   "cell_type": "markdown",
   "id": "5cc0c1e7",
   "metadata": {},
   "source": [
    "### 2.0 - Import des données"
   ]
  },
  {
   "cell_type": "code",
   "execution_count": null,
   "id": "f256497b",
   "metadata": {},
   "outputs": [],
   "source": [
    "dataset = keras.utils.image_dataset_from_directory(\n",
    "    directory = PHOTOS_DIRECTORY,\n",
    "    batch_size = BATCH_S,\n",
    "    image_size = (IMAGE_H, IMAGE_W),\n",
    "    label_mode = None,\n",
    "    seed = 42,\n",
    "    validation_split = None,\n",
    "    subset = None,\n",
    "    shuffle = None,\n",
    ")\n",
    "filepaths = dataset.file_paths"
   ]
  },
  {
   "cell_type": "code",
   "execution_count": null,
   "id": "755399d9",
   "metadata": {},
   "outputs": [],
   "source": [
    "dataset = dataset.map(lambda x: tf.cast(x, tf.float32) / 255.0)\n",
    "X = []\n",
    "for batch in dataset:\n",
    "    X.append(batch.numpy())\n",
    "dataset = np.concatenate(X)"
   ]
  },
  {
   "cell_type": "markdown",
   "id": "54991a94",
   "metadata": {},
   "source": [
    "### 2.1 - Denoising des images sources"
   ]
  },
  {
   "cell_type": "code",
   "execution_count": null,
   "id": "6ce74e19",
   "metadata": {},
   "outputs": [],
   "source": [
    "# load model from file\n",
    "autoencoder_model = load_model(AUTOENCODER_MODEL_PATH)"
   ]
  },
  {
   "cell_type": "code",
   "execution_count": null,
   "id": "e4aa9589",
   "metadata": {},
   "outputs": [],
   "source": [
    "denoised_images = autoencoder_model.predict(dataset, verbose = 1)"
   ]
  },
  {
   "cell_type": "code",
   "execution_count": null,
   "id": "55fe63b6",
   "metadata": {},
   "outputs": [],
   "source": [
    "plt.imshow(denoised_images[1])\n",
    "plt.axis(\"off\")\n",
    "plt.show()"
   ]
  },
  {
   "cell_type": "markdown",
   "id": "cb2cb1c8",
   "metadata": {},
   "source": [
    "### 2.2 - Sauvegarde des images"
   ]
  },
  {
   "cell_type": "code",
   "execution_count": null,
   "id": "0c30cbef",
   "metadata": {},
   "outputs": [],
   "source": [
    "# save images from denoised_images\n",
    "for i, image in enumerate(denoised_images):\n",
    "    # Convert the image to uint8 format\n",
    "    image = (image * 255).astype(np.uint8)\n",
    "    # Create a PIL Image from the numpy array\n",
    "    pil_image = Image.fromarray(image)\n",
    "    # Save the image\n",
    "    filename = os.path.basename(filepaths[i])\n",
    "    dest_path = os.path.join(DENOISED_PHOTOS_DIRECTORY, filename)\n",
    "    pil_image.save(dest_path)"
   ]
  },
  {
   "cell_type": "markdown",
   "id": "54341d3e",
   "metadata": {},
   "source": [
    "## Partie 3 : Captioning des images"
   ]
  },
  {
   "cell_type": "markdown",
   "id": "29ad686a",
   "metadata": {},
   "source": [
    "### 3.0 - Import des données"
   ]
  },
  {
   "cell_type": "code",
   "execution_count": null,
   "id": "91f0944e",
   "metadata": {},
   "outputs": [],
   "source": [
    "dataset = keras.utils.image_dataset_from_directory(\n",
    "    directory = DENOISED_PHOTOS_DIRECTORY,\n",
    "    label_mode = None,\n",
    "    batch_size = BATCH_S,\n",
    "    image_size = (IMAGE_H, IMAGE_W),\n",
    "    seed = 42\n",
    ")"
   ]
  },
  {
   "cell_type": "markdown",
   "id": "c5ce973e",
   "metadata": {},
   "source": [
    "### 3.1 - Prétraitement des données"
   ]
  },
  {
   "cell_type": "code",
   "execution_count": null,
   "id": "9b27d514",
   "metadata": {},
   "outputs": [],
   "source": [
    "dataset = dataset.map(lambda x: tf.cast(x, tf.float32) / 255.0)\n",
    "\n",
    "for batch in dataset:\n",
    "    X.append(batch.numpy())\n",
    "    \n",
    "dataset = np.concatenate(X)"
   ]
  },
  {
   "cell_type": "markdown",
   "id": "8f1020c8",
   "metadata": {},
   "source": [
    "### 3.2 - Définition de class utiles à l'import des modèles"
   ]
  },
  {
   "cell_type": "code",
   "execution_count": null,
   "id": "4d9a7c6b",
   "metadata": {},
   "outputs": [],
   "source": [
    "@tf.keras.utils.register_keras_serializable('CNN_Encoder')\n",
    "class CNN_Encoder(tf.keras.Model):\n",
    "    # Comme les images sont déjà prétraités par InceptionV3 est représenté sous forme compacte\n",
    "    # L'encodeur CNN ne fera que transmettre ces caractéristiques à une couche dense\n",
    "    def __init__(self, embedding_dim, **kwargs):\n",
    "        super(CNN_Encoder, self).__init__(**kwargs)\n",
    "        self.embedding_dim = embedding_dim\n",
    "        # forme après fc == (batch_size, 64, embedding_dim)\n",
    "        self.fc = tf.keras.layers.Dense(embedding_dim)\n",
    "    def call(self, x):\n",
    "        x = self.fc(x)\n",
    "        x = tf.nn.relu(x)\n",
    "        return x\n",
    "    def get_config(self):\n",
    "        config = super(CNN_Encoder, self).get_config()\n",
    "        config.update({\n",
    "            'embedding_dim': self.embedding_dim,\n",
    "        })\n",
    "        return config"
   ]
  },
  {
   "cell_type": "code",
   "execution_count": 4,
   "id": "40692dfc",
   "metadata": {},
   "outputs": [],
   "source": [
    "class BahdanauAttention(tf.keras.Model):\n",
    "    def __init__(self, units):\n",
    "        super(BahdanauAttention, self).__init__()\n",
    "        self.W1 = tf.keras.layers.Dense(units)\n",
    "        self.W2 = tf.keras.layers.Dense(units)\n",
    "        self.V = tf.keras.layers.Dense(1)\n",
    "\n",
    "    def call(self, features, hidden):\n",
    "        hidden_with_time_axis = tf.expand_dims(hidden, 1)\n",
    "        attention_hidden_layer = tf.nn.tanh(\n",
    "                self.W1(features) + self.W2(hidden_with_time_axis)\n",
    "        )\n",
    "\n",
    "        score = self.V(attention_hidden_layer)\n",
    "\n",
    "        attention_weights = tf.nn.softmax(score, axis=1)\n",
    "\n",
    "        context_vector = attention_weights * features\n",
    "        context_vector = tf.reduce_sum(context_vector, axis=1)\n",
    "        \n",
    "        return context_vector, attention_weights"
   ]
  },
  {
   "cell_type": "code",
   "execution_count": 8,
   "id": "5e7c28a5",
   "metadata": {},
   "outputs": [],
   "source": [
    "@tf.keras.utils.register_keras_serializable(\"RNN_Decoder\")\n",
    "class RNN_Decoder(tf.keras.Model):\n",
    "    def __init__(self, embedding_dim, units, vocab_size, use_lstm=False, **kwargs):\n",
    "        super(RNN_Decoder, self).__init__(**kwargs)\n",
    "        self.units = units\n",
    "        self.vocab_size = vocab_size\n",
    "\n",
    "        self.embedding = tf.keras.layers.Embedding(vocab_size, embedding_dim)\n",
    "        self.use_lstm = use_lstm\n",
    "        if not use_lstm:\n",
    "            self.layer = tf.keras.layers.GRU(\n",
    "                self.units,\n",
    "                return_sequences=True,\n",
    "                return_state=True,\n",
    "                #recurrent_initializer='glorot_uniform',\n",
    "                \n",
    "                activation='tanh',\n",
    "                recurrent_activation='sigmoid',\n",
    "                use_bias=True,\n",
    "                kernel_initializer='glorot_uniform',\n",
    "                recurrent_initializer='orthogonal',\n",
    "                bias_initializer='zeros',\n",
    "                unroll=True,\n",
    "            )\n",
    "\n",
    "        else:\n",
    "            self.layer = tf.keras.layers.LSTM(\n",
    "                self.units,\n",
    "                return_sequences=True,\n",
    "                return_state=True,\n",
    "                #recurrent_initializer='glorot_uniform',\n",
    "                \n",
    "                activation='tanh',\n",
    "                recurrent_activation='sigmoid',\n",
    "                use_bias=True,\n",
    "                kernel_initializer='glorot_uniform',\n",
    "                recurrent_initializer='orthogonal',\n",
    "                bias_initializer='zeros',\n",
    "                unroll=True,\n",
    "            )\n",
    "\n",
    "        self.fc1 = tf.keras.layers.Dense(self.units)\n",
    "\n",
    "        self.fc2 = tf.keras.layers.Dense(self.vocab_size)\n",
    "\n",
    "        self.attention = BahdanauAttention(self.units)\n",
    "\n",
    "    def call(self, x, features, hidden):\n",
    "        context_vector, attention_weights = self.attention(features, hidden)\n",
    "        x = self.embedding(x) \n",
    "        context_vector = tf.expand_dims(context_vector, 1)  \n",
    "        x = tf.concat([context_vector, x], axis=-1)  \n",
    "        if not self.use_lstm:\n",
    "            output, state = self.layer(x)\n",
    "        else:\n",
    "            output, state, a = self.layer(x)  \n",
    "        y = self.fc1(output)\n",
    "        y = tf.reshape(y, (-1, y.shape[2]))\n",
    "        y = self.fc2(y)\n",
    "        return y, state, attention_weights\n",
    "\n",
    "    def reset_state(self, batch_size):\n",
    "       return tf.zeros((batch_size, self.units))\n",
    "    \n",
    "    def get_config(self):\n",
    "        config = super().get_config()\n",
    "        config.update({\n",
    "            \"embedding_dim\": self.embedding,\n",
    "            \"units\": self.units,\n",
    "            \"vocab_size\": self.vocab_size,\n",
    "            \"use_lstm\": self.use_lstm\n",
    "        })\n",
    "        return config\n",
    "    \n",
    "    @classmethod\n",
    "    def from_config(cls, config):\n",
    "        return cls(\n",
    "            embedding_dim=config[\"embedding_dim\"],\n",
    "            units=config[\"units\"],\n",
    "            vocab_size=config[\"vocab_size\"],\n",
    "            use_lstm=config.get(\"use_lstm\", True)\n",
    "        )"
   ]
  },
  {
   "cell_type": "markdown",
   "id": "8250bfb9",
   "metadata": {},
   "source": [
    "### 3.3 - Import des modèles"
   ]
  },
  {
   "cell_type": "code",
   "execution_count": 17,
   "id": "b5e8ebb4",
   "metadata": {},
   "outputs": [],
   "source": [
    "encoder_model = load_model(CAPTIONNING_ENCODER_MODEL_PATH)"
   ]
  },
  {
   "cell_type": "code",
   "execution_count": 16,
   "id": "b1dd41cf",
   "metadata": {},
   "outputs": [
    {
     "name": "stderr",
     "output_type": "stream",
     "text": [
      "c:\\Users\\Lucien\\Projects\\data-science\\.venv\\Lib\\site-packages\\keras\\src\\saving\\serialization_lib.py:730: UserWarning: Model 'rnn__decoder_4' had a build config, but the model cannot be built automatically in `build_from_config(config)`. You should implement `def build_from_config(self, config)`, and you might also want to implement the method  that generates the config at saving time, `def get_build_config(self)`. The method `build_from_config()` is meant to create the state of the model (i.e. its variables) upon deserialization.\n",
      "  instance.build_from_config(build_config)\n"
     ]
    }
   ],
   "source": [
    "decoder_model = load_model(CAPTIONNING_DECODER_MODEL_PATH)"
   ]
  },
  {
   "cell_type": "markdown",
   "id": "d430cb4f",
   "metadata": {},
   "source": [
    "### 3.4 - Captionning des images"
   ]
  },
  {
   "cell_type": "code",
   "execution_count": null,
   "id": "3c4cb1d1",
   "metadata": {},
   "outputs": [],
   "source": [
    "encoder_model."
   ]
  }
 ],
 "metadata": {
  "kernelspec": {
   "display_name": ".venv",
   "language": "python",
   "name": "python3"
  },
  "language_info": {
   "codemirror_mode": {
    "name": "ipython",
    "version": 3
   },
   "file_extension": ".py",
   "mimetype": "text/x-python",
   "name": "python",
   "nbconvert_exporter": "python",
   "pygments_lexer": "ipython3",
   "version": "3.11.3"
  }
 },
 "nbformat": 4,
 "nbformat_minor": 5
}
