{
 "cells": [
  {
   "cell_type": "markdown",
   "id": "73aa0b71",
   "metadata": {},
   "source": [
    "# PIPELINE FINALE"
   ]
  },
  {
   "cell_type": "markdown",
   "id": "0afb0eb9",
   "metadata": {},
   "source": [
    "## Initialisation de la pipeline"
   ]
  },
  {
   "cell_type": "markdown",
   "id": "a7380e84",
   "metadata": {},
   "source": [
    "### 0.1 - Import des librairies nécéssaires au code"
   ]
  },
  {
   "cell_type": "code",
   "execution_count": null,
   "id": "13d5e646",
   "metadata": {},
   "outputs": [],
   "source": [
    "import matplotlib.pyplot as plt\n",
    "import numpy as np\n",
    "import tensorflow as tf\n",
    "import collections\n",
    "import os\n",
    "import shutil\n",
    "import datetime\n",
    "import keras_tuner as kt\n",
    "import pandas as pd\n",
    "import visualkeras\n",
    "import time\n",
    "\n",
    "from concurrent.futures import ThreadPoolExecutor, as_completed\n",
    "from PIL import Image, UnidentifiedImageError\n",
    "from tensorflow import keras\n",
    "from tensorflow.keras import layers\n",
    "from tensorflow.keras.models import Sequential, load_model\n",
    "from tensorflow.keras.callbacks import TensorBoard, ModelCheckpoint, EarlyStopping\n",
    "from sklearn.metrics import confusion_matrix, ConfusionMatrixDisplay\n",
    "from sklearn.utils.class_weight import compute_class_weight\n",
    "from tensorflow.keras.preprocessing.image import ImageDataGenerator"
   ]
  },
  {
   "cell_type": "markdown",
   "id": "97288056",
   "metadata": {},
   "source": [
    "### 0.2 - Définition des constantes"
   ]
  },
  {
   "cell_type": "code",
   "execution_count": null,
   "id": "b3181378",
   "metadata": {},
   "outputs": [],
   "source": [
    "# -------------------------------- General Parameters\n",
    "SEED = 42\n",
    "# -------------------------------- Images Parameters\n",
    "IMAGE_H = 128\n",
    "IMAGE_W = 128\n",
    "BATCH_S = 16\n",
    "# -------------------------------- Classes indexes\n",
    "PAINTING_IDX = 0\n",
    "PHOTO_IDX = 1\n",
    "SCHEMA_IDX = 2\n",
    "SKETCH_IDX = 3\n",
    "TEXT_IDX = 4\n",
    "# -------------------------------- Folders\n",
    "DATASET_DIRECTORY = \"dataset_livrable_1/\"\n",
    "PHOTOS_DIRECTORY = \"final_pipeline/photos\"\n",
    "DENOISED_PHOTOS_DIRECTORY = \"final_pipeline/denoised_photos\"\n",
    "MODEL_DIRECTORY = \"models\"\n",
    "# -------------------------------- Model names\n",
    "CLASSIFICATION_MODEL_NAME = \"classification_model.keras\"\n",
    "AUTOENCODER_MODEL_NAME = \"autoencoder_model.keras\"\n",
    "CAPTIONNING_MODEL_NAME = \"captionning_model.keras\"\n",
    "# -------------------------------- Model paths\n",
    "CLASSIFICATION_MODEL_PATH = os.path.join(MODEL_DIRECTORY, CLASSIFICATION_MODEL_NAME)\n",
    "AUTOENCODER_MODEL_PATH = os.path.join(MODEL_DIRECTORY, AUTOENCODER_MODEL_NAME)\n",
    "CAPTIONNING_MODEL_PATH = os.path.join(MODEL_DIRECTORY, CAPTIONNING_MODEL_NAME)"
   ]
  },
  {
   "cell_type": "markdown",
   "id": "af16da9f",
   "metadata": {},
   "source": [
    "## Partie 1 : Classification"
   ]
  },
  {
   "cell_type": "markdown",
   "id": "2eff0705",
   "metadata": {},
   "source": [
    "### 1.0 - Mise au propre des folders & tri des fichiers"
   ]
  },
  {
   "cell_type": "code",
   "execution_count": null,
   "id": "8b250e4c",
   "metadata": {},
   "outputs": [],
   "source": [
    "def is_image(filename):\n",
    "    try:\n",
    "        with Image.open(filename) as img:\n",
    "            img.verify()\n",
    "        return True\n",
    "    except (UnidentifiedImageError, OSError):\n",
    "        return False\n",
    "def move_non_images(directory):\n",
    "    dump_directory = \"dump\"\n",
    "    os.makedirs(dump_directory, exist_ok = True)\n",
    "    \n",
    "    for folder, _, files in os.walk(directory):\n",
    "        for file in files:\n",
    "            file_path = os.path.join(folder, file)\n",
    "            if not is_image(file_path):\n",
    "                print(f\"Déplacement de {file_path} dans le dossier dump/\")\n",
    "                dest_path = os.path.join(dump_directory, file)\n",
    "                try:\n",
    "                    shutil.move(file_path, dest_path)\n",
    "                except:\n",
    "                    print(\"Erreur lors du déplacement\")\n",
    "def is_valid_image(path):\n",
    "    try:\n",
    "        img_raw = tf.io.read_file(path)\n",
    "        _ = tf.image.decode_image(img_raw, channels=3)\n",
    "        return (path, True)\n",
    "    except Exception:\n",
    "        return (path, False)\n",
    "def clean_corrupted_images(directory, extensions=(\"jpg\", \"jpeg\", \"png\"), max_workers=8):\n",
    "    image_paths = []\n",
    "    for root, _, files in os.walk(directory):\n",
    "        for file in files:\n",
    "            if file.lower().endswith(extensions):\n",
    "                image_paths.append(os.path.join(root, file))\n",
    "\n",
    "    print(f\"Scan de {len(image_paths)} images dans {directory}\")\n",
    "\n",
    "    corrupted_count = 0\n",
    "    with ThreadPoolExecutor(max_workers=max_workers) as executor:\n",
    "        futures = [executor.submit(is_valid_image, path) for path in image_paths]\n",
    "        for future in as_completed(futures):\n",
    "            path, is_valid = future.result()\n",
    "            if not is_valid:\n",
    "                try:\n",
    "                    os.remove(path)\n",
    "                    corrupted_count += 1\n",
    "                except Exception as e:\n",
    "                    print(f\"Erreur de suppression {path} : {e}\")\n",
    "\n",
    "    print(f\"Vérification terminée : {corrupted_count} image(s) corrompue(s) supprimée(s).\")"
   ]
  },
  {
   "cell_type": "code",
   "execution_count": null,
   "id": "a77059ab",
   "metadata": {},
   "outputs": [],
   "source": [
    "# move_non_images(dataset_directory)\n",
    "\n",
    "# clean_corrupted_images(dataset_directory)\n",
    "\n",
    "# Remove Photos from previous iteration\n",
    "for dir in [\n",
    "    # PHOTOS_DIRECTORY, \n",
    "    DENOISED_PHOTOS_DIRECTORY,\n",
    "    ]:  \n",
    "    # Remove the directory if it exists\n",
    "    if os.path.exists(dir):\n",
    "        shutil.rmtree(dir) \n",
    "    # Create the directory\n",
    "    if not os.path.exists(dir):\n",
    "        os.mkdir(dir)"
   ]
  },
  {
   "cell_type": "markdown",
   "id": "5d8a99df",
   "metadata": {},
   "source": [
    "### 1.1 - Import des données source"
   ]
  },
  {
   "cell_type": "code",
   "execution_count": null,
   "id": "9eeea67f",
   "metadata": {},
   "outputs": [],
   "source": [
    "image_set = keras.utils.image_dataset_from_directory(\n",
    "    DATASET_DIRECTORY,\n",
    "    batch_size = BATCH_S,\n",
    "    image_size = (IMAGE_H, IMAGE_W),\n",
    "    label_mode = None,\n",
    "    seed = 42,\n",
    "    validation_split = None,\n",
    "    subset = None,\n",
    "    shuffle = None,\n",
    ")\n",
    "filepaths = image_set.file_paths"
   ]
  },
  {
   "cell_type": "markdown",
   "id": "aa8b6d01",
   "metadata": {},
   "source": [
    "### 1.2 - Classification des données"
   ]
  },
  {
   "cell_type": "code",
   "execution_count": null,
   "id": "6896ae9e",
   "metadata": {},
   "outputs": [],
   "source": [
    "# filter_model = load_model('../model_basic_cnn.keras')\n",
    "classification_model = load_model(CLASSIFICATION_MODEL_PATH)"
   ]
  },
  {
   "cell_type": "code",
   "execution_count": null,
   "id": "8ec360e9",
   "metadata": {},
   "outputs": [],
   "source": [
    "predicts = classification_model.predict(image_set, verbose = 1)\n",
    "y_pred = []\n",
    "y_pred.extend(predicts.argmax(axis=1))"
   ]
  },
  {
   "cell_type": "markdown",
   "id": "f664afc6",
   "metadata": {},
   "source": [
    "### 1.3 - Copie des photos dans un répertoire spécifique"
   ]
  },
  {
   "cell_type": "code",
   "execution_count": null,
   "id": "04d1fc83",
   "metadata": {},
   "outputs": [],
   "source": [
    "images_preds = list(zip(filepaths, y_pred))\n",
    "photos_preds = list(filter(lambda x: x[1] == PHOTO_IDX,images_preds))\n",
    "\n",
    "for filepath, prediction in images_preds:\n",
    "    if prediction == PHOTO_IDX:\n",
    "        filename = os.path.basename(filepath)\n",
    "        # print(filename)\n",
    "        dest_path = os.path.join(PHOTOS_DIRECTORY, filename)\n",
    "        shutil.copy(filepath, dest_path)"
   ]
  },
  {
   "cell_type": "markdown",
   "id": "616ef78b",
   "metadata": {},
   "source": [
    "## Partie 2 : Dénoising des images"
   ]
  },
  {
   "cell_type": "markdown",
   "id": "5cc0c1e7",
   "metadata": {},
   "source": [
    "### 2.0 - Import des données"
   ]
  },
  {
   "cell_type": "code",
   "execution_count": null,
   "id": "f256497b",
   "metadata": {},
   "outputs": [],
   "source": [
    "image_set = keras.utils.image_dataset_from_directory(\n",
    "    directory = PHOTOS_DIRECTORY,\n",
    "    batch_size = BATCH_S,\n",
    "    image_size = (IMAGE_H, IMAGE_W),\n",
    "    label_mode = None,\n",
    "    seed = 42,\n",
    "    validation_split = None,\n",
    "    subset = None,\n",
    "    shuffle = None,\n",
    ")\n",
    "filepaths = image_set.file_paths"
   ]
  },
  {
   "cell_type": "code",
   "execution_count": null,
   "id": "755399d9",
   "metadata": {},
   "outputs": [],
   "source": [
    "image_set = image_set.map(lambda x: tf.cast(x, tf.float32) / 255.0)\n",
    "X = []\n",
    "for batch in image_set:\n",
    "    X.append(batch.numpy())\n",
    "image_set = np.concatenate(X)"
   ]
  },
  {
   "cell_type": "markdown",
   "id": "54991a94",
   "metadata": {},
   "source": [
    "### 2.1 - Denoising des images sources"
   ]
  },
  {
   "cell_type": "code",
   "execution_count": null,
   "id": "6ce74e19",
   "metadata": {},
   "outputs": [],
   "source": [
    "# load model from h5 file\n",
    "autoencoder_model = load_model(AUTOENCODER_MODEL_PATH)"
   ]
  },
  {
   "cell_type": "code",
   "execution_count": null,
   "id": "e4aa9589",
   "metadata": {},
   "outputs": [],
   "source": [
    "denoised_images = autoencoder_model.predict(image_set, verbose = 1)"
   ]
  },
  {
   "cell_type": "code",
   "execution_count": null,
   "id": "55fe63b6",
   "metadata": {},
   "outputs": [],
   "source": [
    "plt.imshow(denoised_images[1])\n",
    "plt.axis(\"off\")\n",
    "plt.show()"
   ]
  },
  {
   "cell_type": "markdown",
   "id": "cb2cb1c8",
   "metadata": {},
   "source": [
    "### 2.2 - Sauvegarde des images"
   ]
  },
  {
   "cell_type": "code",
   "execution_count": null,
   "id": "0c30cbef",
   "metadata": {},
   "outputs": [],
   "source": [
    "# save images from denoised_images\n",
    "for i, image in enumerate(denoised_images):\n",
    "    # Convert the image to uint8 format\n",
    "    image = (image * 255).astype(np.uint8)\n",
    "    # Create a PIL Image from the numpy array\n",
    "    pil_image = Image.fromarray(image)\n",
    "    # Save the image\n",
    "    filename = os.path.basename(filepaths[i])\n",
    "    dest_path = os.path.join(DENOISED_PHOTOS_DIRECTORY, filename)\n",
    "    pil_image.save(dest_path)"
   ]
  }
 ],
 "metadata": {
  "kernelspec": {
   "display_name": ".venv",
   "language": "python",
   "name": "python3"
  },
  "language_info": {
   "codemirror_mode": {
    "name": "ipython",
    "version": 3
   },
   "file_extension": ".py",
   "mimetype": "text/x-python",
   "name": "python",
   "nbconvert_exporter": "python",
   "pygments_lexer": "ipython3",
   "version": "3.11.3"
  }
 },
 "nbformat": 4,
 "nbformat_minor": 5
}
