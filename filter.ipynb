{
 "cells": [
  {
   "cell_type": "code",
   "execution_count": null,
   "metadata": {},
   "outputs": [
    {
     "name": "stdout",
     "output_type": "stream",
     "text": [
      "No corrupted files found\n",
      "Extension jpg : 40598\n",
      "Extension png : 800\n"
     ]
    }
   ],
   "source": [
    "import os\n",
    "import cv2\n",
    "from PIL import Image\n",
    "\n",
    "parent_dir = \"C:\\\\DataScience\\\\Project\\\\dataset_livrable_1\\\\\"\n",
    "\n",
    "type = dict()\n",
    "tree = os.walk(parent_dir)\n",
    "i = 0\n",
    "filecorrupt = []\n",
    "for dirpath, dirnames, filenames in tree:\n",
    "    for filename in filenames:\n",
    "        if filename.split('.')[-1] in type:\n",
    "            type[filename.split('.')[-1]] += 1\n",
    "        else:\n",
    "            type[filename.split('.')[-1]] = 1\n",
    "\n",
    "        if filename.endswith('.jpg') or filename.endswith('.png'):\n",
    "            print(i, end='\\r')\n",
    "            img_path = os.path.join(dirpath, filename)\n",
    "            try:\n",
    "                img = Image.open(img_path)\n",
    "                img.verify()\n",
    "                cv2.imread(img_path)\n",
    "            except:\n",
    "                filecorrupt.append(img_path)\n",
    "                print(f\"Corrupted file: {img_path}\")\n",
    "        i += 1\n",
    "\n",
    "if len(filecorrupt) > 0:\n",
    "    for i in range(len(filecorrupt)):\n",
    "        filecorrupt[i] = filecorrupt[i]\n",
    "else :\n",
    "    print(\"No corrupted files found\")\n",
    "\n",
    "for key in type.keys():\n",
    "    print(f\"Extension {key} : {type[key]}\")"
   ]
  },
  {
   "cell_type": "code",
   "execution_count": 13,
   "metadata": {},
   "outputs": [
    {
     "name": "stdout",
     "output_type": "stream",
     "text": [
      "precision_11: 0.67\n",
      "recall_11: 0.67\n",
      "accuracy: 0.75\n",
      "r2_score: 0.80\n",
      "f1_score: [0.   0.5  0.67]\n"
     ]
    }
   ],
   "source": [
    "# metrics\n",
    "\n",
    "import numpy as np\n",
    "import tensorflow as tf\n",
    "from tensorflow.keras.metrics import Precision, Recall, Accuracy, F1Score, R2Score\n",
    "\n",
    "##########Précision & Recall##########\n",
    "Precision = Precision()\n",
    "Recall = Recall()\n",
    "\n",
    "y_true = [0, 1, 1, 1]\n",
    "y_pred = [1, 0, 1, 1]\n",
    "Precision.update_state(y_true, y_pred)\n",
    "print(f\"{Precision.name}: {\"%.2f\" % Precision.result()}\")\n",
    "\n",
    "Recall.update_state(y_true, y_pred)\n",
    "print(f\"{Recall.name}: {\"%.2f\" % Recall.result()}\")\n",
    "\n",
    "##########Accuracy & R2Score##########\n",
    "Accuracy = Accuracy()\n",
    "R2Score = R2Score()\n",
    "\n",
    "y_true = [[1], [2], [3], [4]]\n",
    "y_pred = [[0], [2], [3], [4]]\n",
    "\n",
    "Accuracy.update_state(y_true, y_pred)\n",
    "print(f\"{Accuracy.name}: {\"%.2f\" % Accuracy.result()}\")\n",
    "\n",
    "R2Score.update_state(y_true, y_pred)\n",
    "print(f\"{R2Score.name}: {\"%.2f\" % R2Score.result()}\")\n",
    "\n",
    "##########F1Score##########\n",
    "F1Score = F1Score()\n",
    "\n",
    "y_true = np.array([[1, 1, 1],\n",
    "                   [1, 0, 0],\n",
    "                   [1, 1, 0]], np.int32)\n",
    "y_pred = np.array([[0.2, 0.6, 0.7],\n",
    "                   [0.2, 0.6, 0.6],\n",
    "                   [0.6, 0.8, 0.0]], np.float32)\n",
    "\n",
    "F1Score.update_state(y_true, y_pred)\n",
    "print(f\"{F1Score.name}: {F1Score.result().numpy().round(2)}\")"
   ]
  }
 ],
 "metadata": {
  "kernelspec": {
   "display_name": "DataScience",
   "language": "python",
   "name": "python3"
  },
  "language_info": {
   "codemirror_mode": {
    "name": "ipython",
    "version": 3
   },
   "file_extension": ".py",
   "mimetype": "text/x-python",
   "name": "python",
   "nbconvert_exporter": "python",
   "pygments_lexer": "ipython3",
   "version": "3.12.9"
  }
 },
 "nbformat": 4,
 "nbformat_minor": 2
}
