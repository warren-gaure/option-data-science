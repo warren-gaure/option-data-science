{
 "cells": [
  {
   "cell_type": "code",
   "execution_count": null,
   "metadata": {},
   "outputs": [
    {
     "name": "stdout",
     "output_type": "stream",
     "text": [
      "No corrupted files found\n",
      "Extension jpg : 40598\n",
      "Extension png : 800\n"
     ]
    }
   ],
   "source": [
    "import os\n",
    "import cv2\n",
    "from PIL import Image\n",
    "\n",
    "parent_dir = \"C:\\\\DataScience\\\\Project\\\\dataset_livrable_1\\\\\"\n",
    "\n",
    "type = dict()\n",
    "tree = os.walk(parent_dir)\n",
    "i = 0\n",
    "filecorrupt = []\n",
    "for dirpath, dirnames, filenames in tree:\n",
    "    for filename in filenames:\n",
    "        if filename.split('.')[-1] in type:\n",
    "            type[filename.split('.')[-1]] += 1\n",
    "        else:\n",
    "            type[filename.split('.')[-1]] = 1\n",
    "\n",
    "        if filename.endswith('.jpg') or filename.endswith('.png'):\n",
    "            print(i, end='\\r')\n",
    "            img_path = os.path.join(dirpath, filename)\n",
    "            try:\n",
    "                img = Image.open(img_path)\n",
    "                img.verify()\n",
    "                cv2.imread(img_path)\n",
    "            except:\n",
    "                filecorrupt.append(img_path)\n",
    "                print(f\"Corrupted file: {img_path}\")\n",
    "        i += 1\n",
    "\n",
    "if len(filecorrupt) > 0:\n",
    "    for i in range(len(filecorrupt)):\n",
    "        filecorrupt[i] = filecorrupt[i]\n",
    "else :\n",
    "    print(\"No corrupted files found\")\n",
    "\n",
    "for key in type.keys():\n",
    "    print(f\"Extension {key} : {type[key]}\")"
   ]
  }
 ],
 "metadata": {
  "kernelspec": {
   "display_name": "DataScience",
   "language": "python",
   "name": "python3"
  },
  "language_info": {
   "codemirror_mode": {
    "name": "ipython",
    "version": 3
   },
   "file_extension": ".py",
   "mimetype": "text/x-python",
   "name": "python",
   "nbconvert_exporter": "python",
   "pygments_lexer": "ipython3",
   "version": "3.12.9"
  }
 },
 "nbformat": 4,
 "nbformat_minor": 2
}
